{
 "cells": [
  {
   "cell_type": "markdown",
   "id": "0b10f28b-3bc1-4ed2-8a56-a1e7a0baf1e8",
   "metadata": {},
   "source": [
    "# Data Science Tools and Ecosystem\n"
   ]
  },
  {
   "cell_type": "markdown",
   "id": "8dec93bc-6c26-4b3b-b5f1-6f41b243fbf1",
   "metadata": {},
   "source": [
    "## In this notebook, Data Science Tools and Ecosystem are summarized."
   ]
  },
  {
   "cell_type": "markdown",
   "id": "c77b933f-bcce-42a6-aaff-3332543bf123",
   "metadata": {},
   "source": [
    "### Some of the popular languages that Data Scientists use are:\n",
    "#### 1.Python\n",
    "#### 2.R\n",
    "#### 3.Scala"
   ]
  },
  {
   "cell_type": "markdown",
   "id": "5e50f974-8308-4c56-8a52-027c6d8b3bea",
   "metadata": {},
   "source": [
    "### Some of the commonly used libraries used by Data Scientists include:\n",
    "#### 1.NumPy\n",
    "#### 2.Pandas\n",
    "#### 3.MatplotLib"
   ]
  },
  {
   "cell_type": "markdown",
   "id": "e6d5cf60-94e7-41d0-8a2a-21267b1121dd",
   "metadata": {},
   "source": [
    "| Data Science Tools |\n",
    "|--------------------|\n",
    "| Jupyter Notebook   |\n",
    "| RStudio            |\n",
    "| GitHub             |\n"
   ]
  },
  {
   "cell_type": "markdown",
   "id": "d86ebade-8c46-48a1-ab21-77db7aba9ead",
   "metadata": {},
   "source": [
    "### Below are a few examples of evaluating arithmetic expressions in Python"
   ]
  },
  {
   "cell_type": "code",
   "execution_count": 2,
   "id": "3b6777e8-3113-4f11-bb9c-e520cb0bb424",
   "metadata": {},
   "outputs": [
    {
     "data": {
      "text/plain": [
       "17"
      ]
     },
     "execution_count": 2,
     "metadata": {},
     "output_type": "execute_result"
    }
   ],
   "source": [
    "# This a simple arithmetic expression to mutiply then add integers\n",
    "(3*4)+5"
   ]
  },
  {
   "cell_type": "code",
   "execution_count": 3,
   "id": "07250793-26ba-45b7-9a69-83aedfa4f4d9",
   "metadata": {},
   "outputs": [
    {
     "data": {
      "text/plain": [
       "3.3333333333333335"
      ]
     },
     "execution_count": 3,
     "metadata": {},
     "output_type": "execute_result"
    }
   ],
   "source": [
    "#This will convert 200 minutes to hours by diving by 60\n",
    "minutes=200\n",
    "hours=minutes/60\n",
    "hours"
   ]
  },
  {
   "cell_type": "markdown",
   "id": "5c3c3357-7230-46e8-9ff7-1803797ae3bc",
   "metadata": {},
   "source": [
    "### Objectives:\n",
    "- List popular languages for Data Science\n",
    "- List popular Tools for Data Science\n",
    "- List popular Libraries for Data Science in Python\n",
    "- Create some basic matematical code cells"
   ]
  },
  {
   "cell_type": "markdown",
   "id": "d9dc212a-ff30-477b-ae4f-bcced05c4907",
   "metadata": {},
   "source": [
    "## Author\n",
    "Adey "
   ]
  },
  {
   "cell_type": "code",
   "execution_count": null,
   "id": "a766f569-d04c-4648-8c09-54ccd7b2046d",
   "metadata": {},
   "outputs": [],
   "source": []
  }
 ],
 "metadata": {
  "kernelspec": {
   "display_name": "Python 3 (ipykernel)",
   "language": "python",
   "name": "python3"
  },
  "language_info": {
   "codemirror_mode": {
    "name": "ipython",
    "version": 3
   },
   "file_extension": ".py",
   "mimetype": "text/x-python",
   "name": "python",
   "nbconvert_exporter": "python",
   "pygments_lexer": "ipython3",
   "version": "3.11.2"
  }
 },
 "nbformat": 4,
 "nbformat_minor": 5
}
